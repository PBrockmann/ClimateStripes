{
 "cells": [
  {
   "cell_type": "markdown",
   "metadata": {},
   "source": [
    "<hr>\n",
    "Patrick BROCKMANN - LSCE (Climate and Environment Sciences Laboratory)<br>\n",
    "<img align=\"left\" width=\"40%\" src=\"http://www.lsce.ipsl.fr/Css/img/banniere_LSCE_75.png\" \\><br><br>\n",
    "<hr>"
   ]
  },
  {
   "cell_type": "markdown",
   "metadata": {},
   "source": [
    "Read observation stations file from European Climate Assessment & Dataset\n",
    "\n",
    "https://www.ecad.eu//download/millennium/millennium.php\n",
    "\n",
    "<pre>\n",
    "wget https://www.ecad.eu//download/millennium/data/ECA_indexTG.zip\n",
    "mkdir data\n",
    "unzip ECA_indexTG.zip -d data\n",
    "</pre>"
   ]
  },
  {
   "cell_type": "markdown",
   "metadata": {},
   "source": [
    "File: stations.txt\n",
    "Error at line 318 because there is an extra comma\n",
    "\n",
    "<pre>\n",
    "394  ,KISINEV                                 ,MOLDOVA, REPUBLIC OF                    ,+47:01:12,+028:52:12, 173\n",
    "</pre>\n",
    "\n",
    "stations2.txt is the same without this typo error."
   ]
  },
  {
   "cell_type": "code",
   "execution_count": 19,
   "metadata": {},
   "outputs": [],
   "source": [
    "import numpy as np\n",
    "import pandas as pd\n",
    "import matplotlib.pyplot as plt\n",
    "import re"
   ]
  },
  {
   "cell_type": "markdown",
   "metadata": {},
   "source": [
    "### Read file"
   ]
  },
  {
   "cell_type": "code",
   "execution_count": 2,
   "metadata": {},
   "outputs": [
    {
     "data": {
      "text/html": [
       "<div>\n",
       "<style scoped>\n",
       "    .dataframe tbody tr th:only-of-type {\n",
       "        vertical-align: middle;\n",
       "    }\n",
       "\n",
       "    .dataframe tbody tr th {\n",
       "        vertical-align: top;\n",
       "    }\n",
       "\n",
       "    .dataframe thead th {\n",
       "        text-align: right;\n",
       "    }\n",
       "</style>\n",
       "<table border=\"1\" class=\"dataframe\">\n",
       "  <thead>\n",
       "    <tr style=\"text-align: right;\">\n",
       "      <th></th>\n",
       "      <th>STAID</th>\n",
       "      <th>STATIONNAME</th>\n",
       "      <th>COUNTRYNAME</th>\n",
       "      <th>LAT</th>\n",
       "      <th>LON</th>\n",
       "      <th>HGT</th>\n",
       "    </tr>\n",
       "  </thead>\n",
       "  <tbody>\n",
       "    <tr>\n",
       "      <td>0</td>\n",
       "      <td>4</td>\n",
       "      <td>LINKOEPING</td>\n",
       "      <td>SWEDEN</td>\n",
       "      <td>+58:24:00</td>\n",
       "      <td>+015:31:59</td>\n",
       "      <td>93</td>\n",
       "    </tr>\n",
       "    <tr>\n",
       "      <td>1</td>\n",
       "      <td>5</td>\n",
       "      <td>LINKOEPING-MALMSLAETT</td>\n",
       "      <td>SWEDEN</td>\n",
       "      <td>+58:24:00</td>\n",
       "      <td>+015:31:59</td>\n",
       "      <td>93</td>\n",
       "    </tr>\n",
       "    <tr>\n",
       "      <td>2</td>\n",
       "      <td>6</td>\n",
       "      <td>KARLSTAD</td>\n",
       "      <td>SWEDEN</td>\n",
       "      <td>+59:21:00</td>\n",
       "      <td>+013:28:00</td>\n",
       "      <td>46</td>\n",
       "    </tr>\n",
       "    <tr>\n",
       "      <td>3</td>\n",
       "      <td>7</td>\n",
       "      <td>KARLSTAD-AIRPORT</td>\n",
       "      <td>SWEDEN</td>\n",
       "      <td>+59:26:40</td>\n",
       "      <td>+013:20:15</td>\n",
       "      <td>107</td>\n",
       "    </tr>\n",
       "    <tr>\n",
       "      <td>4</td>\n",
       "      <td>8</td>\n",
       "      <td>OESTERSUND</td>\n",
       "      <td>SWEDEN</td>\n",
       "      <td>+63:10:59</td>\n",
       "      <td>+014:28:59</td>\n",
       "      <td>376</td>\n",
       "    </tr>\n",
       "    <tr>\n",
       "      <td>...</td>\n",
       "      <td>...</td>\n",
       "      <td>...</td>\n",
       "      <td>...</td>\n",
       "      <td>...</td>\n",
       "      <td>...</td>\n",
       "      <td>...</td>\n",
       "    </tr>\n",
       "    <tr>\n",
       "      <td>6412</td>\n",
       "      <td>20062</td>\n",
       "      <td>NORDLI - SANDVIKA</td>\n",
       "      <td>NORWAY</td>\n",
       "      <td>+64:27:33</td>\n",
       "      <td>+013:35:52</td>\n",
       "      <td>420</td>\n",
       "    </tr>\n",
       "    <tr>\n",
       "      <td>6413</td>\n",
       "      <td>20063</td>\n",
       "      <td>SKARDSBOEFJELLET</td>\n",
       "      <td>NORWAY</td>\n",
       "      <td>+61:13:00</td>\n",
       "      <td>+007:01:05</td>\n",
       "      <td>713</td>\n",
       "    </tr>\n",
       "    <tr>\n",
       "      <td>6414</td>\n",
       "      <td>20064</td>\n",
       "      <td>SKISTUA</td>\n",
       "      <td>NORWAY</td>\n",
       "      <td>+63:25:05</td>\n",
       "      <td>+010:15:51</td>\n",
       "      <td>433</td>\n",
       "    </tr>\n",
       "    <tr>\n",
       "      <td>6415</td>\n",
       "      <td>20065</td>\n",
       "      <td>AASTA HANSTEEN</td>\n",
       "      <td>NORWAY</td>\n",
       "      <td>+67:16:28</td>\n",
       "      <td>+007:39:15</td>\n",
       "      <td>52</td>\n",
       "    </tr>\n",
       "    <tr>\n",
       "      <td>6416</td>\n",
       "      <td>20066</td>\n",
       "      <td>HAUKELISETER TESTFELT</td>\n",
       "      <td>NORWAY</td>\n",
       "      <td>+59:48:42</td>\n",
       "      <td>+007:12:51</td>\n",
       "      <td>990</td>\n",
       "    </tr>\n",
       "  </tbody>\n",
       "</table>\n",
       "<p>6417 rows × 6 columns</p>\n",
       "</div>"
      ],
      "text/plain": [
       "      STAID            STATIONNAME COUNTRYNAME        LAT         LON  HGT\n",
       "0         4             LINKOEPING      SWEDEN  +58:24:00  +015:31:59   93\n",
       "1         5  LINKOEPING-MALMSLAETT      SWEDEN  +58:24:00  +015:31:59   93\n",
       "2         6               KARLSTAD      SWEDEN  +59:21:00  +013:28:00   46\n",
       "3         7       KARLSTAD-AIRPORT      SWEDEN  +59:26:40  +013:20:15  107\n",
       "4         8             OESTERSUND      SWEDEN  +63:10:59  +014:28:59  376\n",
       "...     ...                    ...         ...        ...         ...  ...\n",
       "6412  20062      NORDLI - SANDVIKA      NORWAY  +64:27:33  +013:35:52  420\n",
       "6413  20063       SKARDSBOEFJELLET      NORWAY  +61:13:00  +007:01:05  713\n",
       "6414  20064                SKISTUA      NORWAY  +63:25:05  +010:15:51  433\n",
       "6415  20065         AASTA HANSTEEN      NORWAY  +67:16:28  +007:39:15   52\n",
       "6416  20066  HAUKELISETER TESTFELT      NORWAY  +59:48:42  +007:12:51  990\n",
       "\n",
       "[6417 rows x 6 columns]"
      ]
     },
     "execution_count": 2,
     "metadata": {},
     "output_type": "execute_result"
    }
   ],
   "source": [
    "dfStations = pd.read_csv('data/stations2.txt', header=None, skiprows=20)\n",
    "dfStations.rename(columns={\n",
    "                   0: \"STAID\", \n",
    "                   1: \"STATIONNAME\", \n",
    "                   2: \"COUNTRYNAME\", \n",
    "                   3: \"LAT\", \n",
    "                   4: \"LON\", \n",
    "                   5: \"HGT\",\n",
    "                  }, inplace=True)\n",
    "dfStations['STATIONNAME'] = dfStations['STATIONNAME'].apply(lambda x: x.strip())\n",
    "dfStations['COUNTRYNAME'] = dfStations['COUNTRYNAME'].apply(lambda x: x.strip())\n",
    "dfStations"
   ]
  },
  {
   "cell_type": "code",
   "execution_count": 3,
   "metadata": {},
   "outputs": [
    {
     "data": {
      "text/plain": [
       "array(['SWEDEN', 'AUSTRIA', 'BELGIUM', 'BULGARIA', 'CROATIA', 'CYPRUS',\n",
       "       'FINLAND', 'FRANCE', 'GERMANY', 'GREECE', 'HUNGARY', 'ICELAND',\n",
       "       'RUSSIAN FEDERATION', 'DENMARK', 'IRELAND', 'ISRAEL',\n",
       "       'NETHERLANDS', 'ITALY', 'NORWAY', 'LATVIA', 'LITHUANIA',\n",
       "       'LUXEMBOURG', 'POLAND', 'PORTUGAL', 'ROMANIA', 'SLOVAKIA',\n",
       "       'SLOVENIA', 'SPAIN', 'SWITZERLAND', 'TURKEY', 'UKRAINE',\n",
       "       'UNITED KINGDOM', 'SERBIA', 'ESTONIA', 'REPUBLIC OF MACEDONIA',\n",
       "       'BOSNIA AND HERZEGOVINA', 'ALBANIA', 'ALGERIA', 'ARMENIA',\n",
       "       'GREENLAND [DENMARK]', 'EGYPT', 'TURKMENISTAN', 'KAZAKHSTAN',\n",
       "       'AZERBAIJAN', 'MOLDOVA REPUBLIC OF', 'BELARUS', 'GEORGIA',\n",
       "       'MOROCCO', 'TUNISIA', 'LIECHTENSTEIN', 'GIBRALTAR', 'UZBEKISTAN',\n",
       "       'KYRGYZSTAN', 'TAJIKISTAN', 'MONTENEGRO', 'SVALBARD AND JAN MAYEN'],\n",
       "      dtype=object)"
      ]
     },
     "execution_count": 3,
     "metadata": {},
     "output_type": "execute_result"
    }
   ],
   "source": [
    "dfStations['COUNTRYNAME'].unique()"
   ]
  },
  {
   "cell_type": "code",
   "execution_count": 4,
   "metadata": {},
   "outputs": [
    {
     "data": {
      "text/plain": [
       "56"
      ]
     },
     "execution_count": 4,
     "metadata": {},
     "output_type": "execute_result"
    }
   ],
   "source": [
    "len(dfStations['COUNTRYNAME'].unique())"
   ]
  },
  {
   "cell_type": "markdown",
   "metadata": {},
   "source": [
    "### Convert string to correct positions"
   ]
  },
  {
   "cell_type": "code",
   "execution_count": 5,
   "metadata": {},
   "outputs": [
    {
     "data": {
      "text/plain": [
       "-7.214166666666667"
      ]
     },
     "execution_count": 5,
     "metadata": {},
     "output_type": "execute_result"
    }
   ],
   "source": [
    "# https://stackoverflow.com/questions/50193159/converting-pandas-data-frame-with-degree-minute-second-dms-coordinates-to-deci\n",
    "\n",
    "def dms2dd(s):\n",
    "    # example: s = '+007:12:51'\n",
    "    degrees, minutes, seconds = re.split('[:]+', s)\n",
    "    #print(degrees, minutes, seconds)\n",
    "    dd = abs(float(degrees)) + float(minutes)/60 + float(seconds)/(60*60);\n",
    "    if float(degrees) < 0:\n",
    "        dd*= -1\n",
    "    return dd\n",
    "\n",
    "dms2dd('-007:12:51')"
   ]
  },
  {
   "cell_type": "code",
   "execution_count": 6,
   "metadata": {},
   "outputs": [],
   "source": [
    "dfStations['LON'] = dfStations['LON'].apply(dms2dd)\n",
    "dfStations['LAT'] = dfStations['LAT'].apply(dms2dd)"
   ]
  },
  {
   "cell_type": "code",
   "execution_count": 7,
   "metadata": {
    "scrolled": true
   },
   "outputs": [
    {
     "data": {
      "text/html": [
       "<div>\n",
       "<style scoped>\n",
       "    .dataframe tbody tr th:only-of-type {\n",
       "        vertical-align: middle;\n",
       "    }\n",
       "\n",
       "    .dataframe tbody tr th {\n",
       "        vertical-align: top;\n",
       "    }\n",
       "\n",
       "    .dataframe thead th {\n",
       "        text-align: right;\n",
       "    }\n",
       "</style>\n",
       "<table border=\"1\" class=\"dataframe\">\n",
       "  <thead>\n",
       "    <tr style=\"text-align: right;\">\n",
       "      <th></th>\n",
       "      <th>STAID</th>\n",
       "      <th>STATIONNAME</th>\n",
       "      <th>COUNTRYNAME</th>\n",
       "      <th>LAT</th>\n",
       "      <th>LON</th>\n",
       "      <th>HGT</th>\n",
       "    </tr>\n",
       "  </thead>\n",
       "  <tbody>\n",
       "    <tr>\n",
       "      <td>0</td>\n",
       "      <td>4</td>\n",
       "      <td>LINKOEPING</td>\n",
       "      <td>SWEDEN</td>\n",
       "      <td>58.400000</td>\n",
       "      <td>15.533056</td>\n",
       "      <td>93</td>\n",
       "    </tr>\n",
       "    <tr>\n",
       "      <td>1</td>\n",
       "      <td>5</td>\n",
       "      <td>LINKOEPING-MALMSLAETT</td>\n",
       "      <td>SWEDEN</td>\n",
       "      <td>58.400000</td>\n",
       "      <td>15.533056</td>\n",
       "      <td>93</td>\n",
       "    </tr>\n",
       "    <tr>\n",
       "      <td>2</td>\n",
       "      <td>6</td>\n",
       "      <td>KARLSTAD</td>\n",
       "      <td>SWEDEN</td>\n",
       "      <td>59.350000</td>\n",
       "      <td>13.466667</td>\n",
       "      <td>46</td>\n",
       "    </tr>\n",
       "    <tr>\n",
       "      <td>3</td>\n",
       "      <td>7</td>\n",
       "      <td>KARLSTAD-AIRPORT</td>\n",
       "      <td>SWEDEN</td>\n",
       "      <td>59.444444</td>\n",
       "      <td>13.337500</td>\n",
       "      <td>107</td>\n",
       "    </tr>\n",
       "    <tr>\n",
       "      <td>4</td>\n",
       "      <td>8</td>\n",
       "      <td>OESTERSUND</td>\n",
       "      <td>SWEDEN</td>\n",
       "      <td>63.183056</td>\n",
       "      <td>14.483056</td>\n",
       "      <td>376</td>\n",
       "    </tr>\n",
       "    <tr>\n",
       "      <td>...</td>\n",
       "      <td>...</td>\n",
       "      <td>...</td>\n",
       "      <td>...</td>\n",
       "      <td>...</td>\n",
       "      <td>...</td>\n",
       "      <td>...</td>\n",
       "    </tr>\n",
       "    <tr>\n",
       "      <td>6412</td>\n",
       "      <td>20062</td>\n",
       "      <td>NORDLI - SANDVIKA</td>\n",
       "      <td>NORWAY</td>\n",
       "      <td>64.459167</td>\n",
       "      <td>13.597778</td>\n",
       "      <td>420</td>\n",
       "    </tr>\n",
       "    <tr>\n",
       "      <td>6413</td>\n",
       "      <td>20063</td>\n",
       "      <td>SKARDSBOEFJELLET</td>\n",
       "      <td>NORWAY</td>\n",
       "      <td>61.216667</td>\n",
       "      <td>7.018056</td>\n",
       "      <td>713</td>\n",
       "    </tr>\n",
       "    <tr>\n",
       "      <td>6414</td>\n",
       "      <td>20064</td>\n",
       "      <td>SKISTUA</td>\n",
       "      <td>NORWAY</td>\n",
       "      <td>63.418056</td>\n",
       "      <td>10.264167</td>\n",
       "      <td>433</td>\n",
       "    </tr>\n",
       "    <tr>\n",
       "      <td>6415</td>\n",
       "      <td>20065</td>\n",
       "      <td>AASTA HANSTEEN</td>\n",
       "      <td>NORWAY</td>\n",
       "      <td>67.274444</td>\n",
       "      <td>7.654167</td>\n",
       "      <td>52</td>\n",
       "    </tr>\n",
       "    <tr>\n",
       "      <td>6416</td>\n",
       "      <td>20066</td>\n",
       "      <td>HAUKELISETER TESTFELT</td>\n",
       "      <td>NORWAY</td>\n",
       "      <td>59.811667</td>\n",
       "      <td>7.214167</td>\n",
       "      <td>990</td>\n",
       "    </tr>\n",
       "  </tbody>\n",
       "</table>\n",
       "<p>6417 rows × 6 columns</p>\n",
       "</div>"
      ],
      "text/plain": [
       "      STAID            STATIONNAME COUNTRYNAME        LAT        LON  HGT\n",
       "0         4             LINKOEPING      SWEDEN  58.400000  15.533056   93\n",
       "1         5  LINKOEPING-MALMSLAETT      SWEDEN  58.400000  15.533056   93\n",
       "2         6               KARLSTAD      SWEDEN  59.350000  13.466667   46\n",
       "3         7       KARLSTAD-AIRPORT      SWEDEN  59.444444  13.337500  107\n",
       "4         8             OESTERSUND      SWEDEN  63.183056  14.483056  376\n",
       "...     ...                    ...         ...        ...        ...  ...\n",
       "6412  20062      NORDLI - SANDVIKA      NORWAY  64.459167  13.597778  420\n",
       "6413  20063       SKARDSBOEFJELLET      NORWAY  61.216667   7.018056  713\n",
       "6414  20064                SKISTUA      NORWAY  63.418056  10.264167  433\n",
       "6415  20065         AASTA HANSTEEN      NORWAY  67.274444   7.654167   52\n",
       "6416  20066  HAUKELISETER TESTFELT      NORWAY  59.811667   7.214167  990\n",
       "\n",
       "[6417 rows x 6 columns]"
      ]
     },
     "execution_count": 7,
     "metadata": {},
     "output_type": "execute_result"
    }
   ],
   "source": [
    "dfStations"
   ]
  },
  {
   "cell_type": "markdown",
   "metadata": {},
   "source": [
    "### Create a map"
   ]
  },
  {
   "cell_type": "code",
   "execution_count": 8,
   "metadata": {},
   "outputs": [
    {
     "data": {
      "application/vnd.jupyter.widget-view+json": {
       "model_id": "fcc70bb0a6da474596c39de376c70726",
       "version_major": 2,
       "version_minor": 0
      },
      "text/plain": [
       "Map(basemap={'url': 'https://{s}.tile.openstreetmap.org/{z}/{x}/{y}.png', 'max_zoom': 19, 'attribution': 'Map …"
      ]
     },
     "metadata": {},
     "output_type": "display_data"
    }
   ],
   "source": [
    "from ipywidgets import HTML\n",
    "from ipyleaflet import Map, Marker, Popup, CircleMarker\n",
    "\n",
    "center = (45, 3)\n",
    "\n",
    "m = Map(center=center, zoom=5)\n",
    "\n",
    "for index, row in dfStations.iterrows():\n",
    "  \n",
    "    if row['COUNTRYNAME'] in ['FRANCE', 'GERMANY', 'ITALY']: \n",
    "        circle_marker = CircleMarker()\n",
    "        circle_marker.location = (row['LAT'], row['LON'])\n",
    "        circle_marker.radius = 5\n",
    "        circle_marker.weight = 0\n",
    "        circle_marker.fill_opacity = 0.4\n",
    "\n",
    "        if row['COUNTRYNAME'] == 'FRANCE' :  \n",
    "            circle_marker.color = \"red\"\n",
    "            circle_marker.fill_color = \"red\"\n",
    "        elif row['COUNTRYNAME'] == 'GERMANY' :\n",
    "            circle_marker.color = \"blue\"\n",
    "            circle_marker.fill_color = \"blue\"\n",
    "        elif row['COUNTRYNAME'] == 'ITALY' :\n",
    "            circle_marker.color = \"green\"\n",
    "            circle_marker.fill_color = \"green\"     \n",
    "        m.add_layer(circle_marker)\n",
    "\n",
    "display(m)"
   ]
  },
  {
   "cell_type": "code",
   "execution_count": 9,
   "metadata": {},
   "outputs": [
    {
     "data": {
      "application/vnd.jupyter.widget-view+json": {
       "model_id": "31d5b8749d17478e8e3da3b800c2845e",
       "version_major": 2,
       "version_minor": 0
      },
      "text/plain": [
       "Map(basemap={'url': 'https://{s}.tile.openstreetmap.org/{z}/{x}/{y}.png', 'max_zoom': 19, 'attribution': 'Map …"
      ]
     },
     "metadata": {},
     "output_type": "display_data"
    }
   ],
   "source": [
    "from ipywidgets import HTML\n",
    "from ipyleaflet import Map, Marker, Popup, CircleMarker\n",
    "\n",
    "center = (45, 3)\n",
    "\n",
    "m = Map(center=center, zoom=5)\n",
    "\n",
    "for index, row in dfStations.iterrows():\n",
    "  \n",
    "    if row['COUNTRYNAME'] in ['FRANCE']: \n",
    "        circle_marker = CircleMarker()\n",
    "        circle_marker.location = (row['LAT'], row['LON'])\n",
    "        circle_marker.radius = 5\n",
    "        circle_marker.weight = 1\n",
    "        circle_marker.fill_opacity = 0.4\n",
    "        circle_marker.color = \"red\"\n",
    "        circle_marker.fill_color = \"red\"\n",
    "        message = HTML()\n",
    "        message.value = \"%s %s %s\" %(row['STAID'], row['COUNTRYNAME'], row['STATIONNAME'])       \n",
    "        circle_marker.popup = message   \n",
    "        \n",
    "        m.add_layer(circle_marker)\n",
    "\n",
    "display(m)"
   ]
  },
  {
   "cell_type": "markdown",
   "metadata": {},
   "source": [
    "### Reading a data file"
   ]
  },
  {
   "cell_type": "code",
   "execution_count": 10,
   "metadata": {},
   "outputs": [
    {
     "data": {
      "text/html": [
       "<div>\n",
       "<style scoped>\n",
       "    .dataframe tbody tr th:only-of-type {\n",
       "        vertical-align: middle;\n",
       "    }\n",
       "\n",
       "    .dataframe tbody tr th {\n",
       "        vertical-align: top;\n",
       "    }\n",
       "\n",
       "    .dataframe thead th {\n",
       "        text-align: right;\n",
       "    }\n",
       "</style>\n",
       "<table border=\"1\" class=\"dataframe\">\n",
       "  <thead>\n",
       "    <tr style=\"text-align: right;\">\n",
       "      <th></th>\n",
       "      <th>SOUID</th>\n",
       "      <th>YEAR</th>\n",
       "      <th>ANNUAL</th>\n",
       "      <th>WINTER HALF YEAR</th>\n",
       "      <th>SUMMER HALF YEAR</th>\n",
       "      <th>WINTER (DJF)</th>\n",
       "      <th>SPRING (MAM)</th>\n",
       "      <th>SUMMER (JJA)</th>\n",
       "      <th>AUTUMN (SON)</th>\n",
       "      <th>9</th>\n",
       "      <th>...</th>\n",
       "      <th>11</th>\n",
       "      <th>12</th>\n",
       "      <th>13</th>\n",
       "      <th>14</th>\n",
       "      <th>15</th>\n",
       "      <th>16</th>\n",
       "      <th>17</th>\n",
       "      <th>18</th>\n",
       "      <th>19</th>\n",
       "      <th>20</th>\n",
       "    </tr>\n",
       "    <tr>\n",
       "      <th>Date</th>\n",
       "      <th></th>\n",
       "      <th></th>\n",
       "      <th></th>\n",
       "      <th></th>\n",
       "      <th></th>\n",
       "      <th></th>\n",
       "      <th></th>\n",
       "      <th></th>\n",
       "      <th></th>\n",
       "      <th></th>\n",
       "      <th></th>\n",
       "      <th></th>\n",
       "      <th></th>\n",
       "      <th></th>\n",
       "      <th></th>\n",
       "      <th></th>\n",
       "      <th></th>\n",
       "      <th></th>\n",
       "      <th></th>\n",
       "      <th></th>\n",
       "      <th></th>\n",
       "    </tr>\n",
       "  </thead>\n",
       "  <tbody>\n",
       "    <tr>\n",
       "      <td>1873-01-01</td>\n",
       "      <td>38</td>\n",
       "      <td>1873</td>\n",
       "      <td>1061</td>\n",
       "      <td>NaN</td>\n",
       "      <td>1513</td>\n",
       "      <td>NaN</td>\n",
       "      <td>967</td>\n",
       "      <td>1855</td>\n",
       "      <td>1063</td>\n",
       "      <td>492</td>\n",
       "      <td>...</td>\n",
       "      <td>831</td>\n",
       "      <td>885</td>\n",
       "      <td>1184</td>\n",
       "      <td>1673</td>\n",
       "      <td>1974</td>\n",
       "      <td>1911</td>\n",
       "      <td>1431</td>\n",
       "      <td>1075</td>\n",
       "      <td>683</td>\n",
       "      <td>306</td>\n",
       "    </tr>\n",
       "    <tr>\n",
       "      <td>1874-01-01</td>\n",
       "      <td>38</td>\n",
       "      <td>1874</td>\n",
       "      <td>1086</td>\n",
       "      <td>607.0</td>\n",
       "      <td>1614</td>\n",
       "      <td>390.0</td>\n",
       "      <td>1007</td>\n",
       "      <td>1892</td>\n",
       "      <td>1130</td>\n",
       "      <td>452</td>\n",
       "      <td>...</td>\n",
       "      <td>696</td>\n",
       "      <td>1170</td>\n",
       "      <td>1160</td>\n",
       "      <td>1750</td>\n",
       "      <td>2136</td>\n",
       "      <td>1784</td>\n",
       "      <td>1674</td>\n",
       "      <td>1142</td>\n",
       "      <td>574</td>\n",
       "      <td>39</td>\n",
       "    </tr>\n",
       "    <tr>\n",
       "      <td>1875-01-01</td>\n",
       "      <td>38</td>\n",
       "      <td>1875</td>\n",
       "      <td>1072</td>\n",
       "      <td>498.0</td>\n",
       "      <td>1633</td>\n",
       "      <td>234.0</td>\n",
       "      <td>1041</td>\n",
       "      <td>1817</td>\n",
       "      <td>1118</td>\n",
       "      <td>501</td>\n",
       "      <td>...</td>\n",
       "      <td>545</td>\n",
       "      <td>1021</td>\n",
       "      <td>1555</td>\n",
       "      <td>1740</td>\n",
       "      <td>1764</td>\n",
       "      <td>1946</td>\n",
       "      <td>1758</td>\n",
       "      <td>978</td>\n",
       "      <td>623</td>\n",
       "      <td>216</td>\n",
       "    </tr>\n",
       "    <tr>\n",
       "      <td>1876-01-01</td>\n",
       "      <td>38</td>\n",
       "      <td>1876</td>\n",
       "      <td>1106</td>\n",
       "      <td>493.0</td>\n",
       "      <td>1577</td>\n",
       "      <td>216.0</td>\n",
       "      <td>970</td>\n",
       "      <td>1912</td>\n",
       "      <td>1157</td>\n",
       "      <td>6</td>\n",
       "      <td>...</td>\n",
       "      <td>694</td>\n",
       "      <td>1049</td>\n",
       "      <td>1170</td>\n",
       "      <td>1687</td>\n",
       "      <td>2042</td>\n",
       "      <td>2000</td>\n",
       "      <td>1500</td>\n",
       "      <td>1284</td>\n",
       "      <td>682</td>\n",
       "      <td>688</td>\n",
       "    </tr>\n",
       "    <tr>\n",
       "      <td>1877-01-01</td>\n",
       "      <td>38</td>\n",
       "      <td>1877</td>\n",
       "      <td>1096</td>\n",
       "      <td>756.0</td>\n",
       "      <td>1512</td>\n",
       "      <td>662.0</td>\n",
       "      <td>901</td>\n",
       "      <td>1879</td>\n",
       "      <td>1036</td>\n",
       "      <td>623</td>\n",
       "      <td>...</td>\n",
       "      <td>570</td>\n",
       "      <td>998</td>\n",
       "      <td>1139</td>\n",
       "      <td>1965</td>\n",
       "      <td>1820</td>\n",
       "      <td>1855</td>\n",
       "      <td>1284</td>\n",
       "      <td>1002</td>\n",
       "      <td>824</td>\n",
       "      <td>377</td>\n",
       "    </tr>\n",
       "  </tbody>\n",
       "</table>\n",
       "<p>5 rows × 21 columns</p>\n",
       "</div>"
      ],
      "text/plain": [
       "            SOUID  YEAR  ANNUAL  WINTER HALF YEAR  SUMMER HALF YEAR  \\\n",
       "Date                                                                  \n",
       "1873-01-01     38  1873    1061               NaN              1513   \n",
       "1874-01-01     38  1874    1086             607.0              1614   \n",
       "1875-01-01     38  1875    1072             498.0              1633   \n",
       "1876-01-01     38  1876    1106             493.0              1577   \n",
       "1877-01-01     38  1877    1096             756.0              1512   \n",
       "\n",
       "            WINTER (DJF)  SPRING (MAM)  SUMMER (JJA)  AUTUMN (SON)    9  ...  \\\n",
       "Date                                                                     ...   \n",
       "1873-01-01           NaN           967          1855          1063  492  ...   \n",
       "1874-01-01         390.0          1007          1892          1130  452  ...   \n",
       "1875-01-01         234.0          1041          1817          1118  501  ...   \n",
       "1876-01-01         216.0           970          1912          1157    6  ...   \n",
       "1877-01-01         662.0           901          1879          1036  623  ...   \n",
       "\n",
       "             11    12    13    14    15    16    17    18   19   20  \n",
       "Date                                                                 \n",
       "1873-01-01  831   885  1184  1673  1974  1911  1431  1075  683  306  \n",
       "1874-01-01  696  1170  1160  1750  2136  1784  1674  1142  574   39  \n",
       "1875-01-01  545  1021  1555  1740  1764  1946  1758   978  623  216  \n",
       "1876-01-01  694  1049  1170  1687  2042  2000  1500  1284  682  688  \n",
       "1877-01-01  570   998  1139  1965  1820  1855  1284  1002  824  377  \n",
       "\n",
       "[5 rows x 21 columns]"
      ]
     },
     "execution_count": 10,
     "metadata": {},
     "output_type": "execute_result"
    }
   ],
   "source": [
    "#df1 = pd.read_csv('data/indexTG011322.txt', header=None, delim_whitespace=True, skiprows=30, na_values=['-999999'])\n",
    "df1 = pd.read_csv('data/indexTG000038.txt', header=None, delim_whitespace=True, skiprows=30, na_values=['-999999'])\n",
    "df1.rename(columns={\n",
    "                   0: \"SOUID\", \n",
    "                   1: \"YEAR\", \n",
    "                   2: \"ANNUAL\", \n",
    "                   3: \"WINTER HALF YEAR\", \n",
    "                   4: \"SUMMER HALF YEAR\", \n",
    "                   5: \"WINTER (DJF)\",\n",
    "                   6: \"SPRING (MAM)\",\n",
    "                   7: \"SUMMER (JJA)\",\n",
    "                   8: \"AUTUMN (SON)\"\n",
    "                  }, inplace=True)\n",
    "df1['Date'] =  pd.to_datetime(df1['YEAR'], format='%Y')\n",
    "df1.set_index('Date', inplace=True)\n",
    "df1.head()"
   ]
  },
  {
   "cell_type": "code",
   "execution_count": 11,
   "metadata": {},
   "outputs": [
    {
     "data": {
      "text/plain": [
       "<matplotlib.axes._subplots.AxesSubplot at 0x7fcf36b3eef0>"
      ]
     },
     "execution_count": 11,
     "metadata": {},
     "output_type": "execute_result"
    },
    {
     "data": {
      "image/png": "[encoded data removed]",
      "text/plain": [
       "<Figure size 432x288 with 1 Axes>"
      ]
     },
     "metadata": {
      "needs_background": "light"
     },
     "output_type": "display_data"
    }
   ],
   "source": [
    "(df1[['ANNUAL', 'WINTER (DJF)', 'SUMMER (JJA)']]/100).plot(grid=True)"
   ]
  },
  {
   "cell_type": "code",
   "execution_count": 12,
   "metadata": {},
   "outputs": [
    {
     "name": "stdout",
     "output_type": "stream",
     "text": [
      "Date start: 1873\n",
      "Date end: 2018\n",
      "Size: 146\n",
      "Missing: 0\n"
     ]
    }
   ],
   "source": [
    "print('Date start: %d\\nDate end: %d\\nSize: %d\\nMissing: %d' \\\n",
    "          %(df1['YEAR'].iloc[0], df1['YEAR'].iloc[-1], df1['YEAR'].size, df1['YEAR'].size-df1['ANNUAL'].count()))"
   ]
  },
  {
   "cell_type": "code",
   "execution_count": 13,
   "metadata": {},
   "outputs": [
    {
     "data": {
      "text/plain": [
       "<matplotlib.axes._subplots.AxesSubplot at 0x7fcf3225e7b8>"
      ]
     },
     "execution_count": 13,
     "metadata": {},
     "output_type": "execute_result"
    },
    {
     "data": {
      "image/png": "[encoded data removed]",
      "text/plain": [
       "<Figure size 432x288 with 1 Axes>"
      ]
     },
     "metadata": {
      "needs_background": "light"
     },
     "output_type": "display_data"
    }
   ],
   "source": [
    "(df1['ANNUAL']/100).plot(grid=True)"
   ]
  },
  {
   "cell_type": "code",
   "execution_count": 14,
   "metadata": {},
   "outputs": [
    {
     "name": "stdout",
     "output_type": "stream",
     "text": [
      "11.531917808219184 14.04 8.76\n"
     ]
    }
   ],
   "source": [
    "print((df1['ANNUAL']/100).mean(), (df1['ANNUAL']/100).max(), (df1['ANNUAL']/100).min())"
   ]
  },
  {
   "cell_type": "code",
   "execution_count": 15,
   "metadata": {},
   "outputs": [
    {
     "data": {
      "text/plain": [
       "12.958947368421052"
      ]
     },
     "execution_count": 15,
     "metadata": {},
     "output_type": "execute_result"
    }
   ],
   "source": [
    "df1[ df1['YEAR'] >= 2000]['ANNUAL'].mean()/100."
   ]
  },
  {
   "cell_type": "code",
   "execution_count": 16,
   "metadata": {},
   "outputs": [
    {
     "data": {
      "text/plain": [
       "12.405666666666667"
      ]
     },
     "execution_count": 16,
     "metadata": {},
     "output_type": "execute_result"
    }
   ],
   "source": [
    "df1[(df1['YEAR'] >= 1980) & (df1['YEAR'] < 2010)]['ANNUAL'].mean()/100"
   ]
  },
  {
   "cell_type": "code",
   "execution_count": 17,
   "metadata": {},
   "outputs": [
    {
     "data": {
      "text/plain": [
       "<matplotlib.axes._subplots.AxesSubplot at 0x7fcf321a7a58>"
      ]
     },
     "execution_count": 17,
     "metadata": {},
     "output_type": "execute_result"
    },
    {
     "data": {
      "image/png": "[encoded data removed]",
      "text/plain": [
       "<Figure size 432x288 with 1 Axes>"
      ]
     },
     "metadata": {
      "needs_background": "light"
     },
     "output_type": "display_data"
    }
   ],
   "source": [
    "anomalies = (df1['ANNUAL']-df1[(df1['YEAR'] >= 1980) & (df1['YEAR'] < 2010)]['ANNUAL'].mean())/100\n",
    "anomalies2 = (df1['ANNUAL']-df1[(df1['YEAR'] >= 2000)]['ANNUAL'].mean())/100\n",
    "anomalies.plot(grid=True)\n",
    "anomalies2.plot(grid=True)"
   ]
  },
  {
   "cell_type": "code",
   "execution_count": 20,
   "metadata": {},
   "outputs": [],
   "source": [
    "min=-1.6\n",
    "max=1.6\n",
    "delta=0.2\n",
    "levels = np.arange(min,max,delta)\n",
    "cmap = plt.get_cmap('RdBu_r')\n",
    "colors = cmap(np.linspace(0, 1, len(levels)+1))\n",
    "cmap, norm = matplotlib.colors.from_levels_and_colors(levels, colors, extend='both')"
   ]
  },
  {
   "cell_type": "code",
   "execution_count": 21,
   "metadata": {
    "scrolled": false
   },
   "outputs": [
    {
     "data": {
      "image/png": "[encoded data removed]",
      "text/plain": [
       "<Figure size 432x288 with 1 Axes>"
      ]
     },
     "metadata": {
      "needs_background": "light"
     },
     "output_type": "display_data"
    }
   ],
   "source": [
    "barlist=plt.bar([1,2,3,4], [1,1,1,1], width=0.8)\n",
    "barlist[0].set_color(cmap(norm(-1.5)))\n",
    "plt.show()"
   ]
  },
  {
   "cell_type": "code",
   "execution_count": 22,
   "metadata": {},
   "outputs": [
    {
     "data": {
      "image/png": "[encoded data removed]",
      "text/plain": [
       "<Figure size 800x100 with 1 Axes>"
      ]
     },
     "metadata": {},
     "output_type": "display_data"
    }
   ],
   "source": [
    "anomalies = (df1['ANNUAL']-df1[(df1['YEAR'] >= 1980) & (df1['YEAR'] < 2010)]['ANNUAL'].mean())/100\n",
    "\n",
    "min=-1.6\n",
    "max=1.6\n",
    "delta=0.2\n",
    "allLevels = np.arange(min,max+delta,delta)\n",
    "cmap = plt.get_cmap('RdBu_r')\n",
    "colors = cmap(np.linspace(0, 1, len(allLevels)+1))\n",
    "cmap, norm = matplotlib.colors.from_levels_and_colors(allLevels, colors, extend='both')\n",
    "    \n",
    "dateStart = 1870\n",
    "dateEnd = 2018\n",
    "    \n",
    "x=[]\n",
    "y=[]\n",
    "for i in range(dateStart, dateEnd):\n",
    "    x.append(i)\n",
    "\n",
    "    try: \n",
    "        if (not np.isnan(anomalies.loc[str(i)][0])):\n",
    "                c = cmap(norm(anomalies.loc[str(i)][0]))\n",
    "        else:\n",
    "                c = (0,1,0)               # missing \n",
    "    except:\n",
    "        c = (1,1,1)\n",
    "            \n",
    "    y.append(c)\n",
    "    \n",
    "    \n",
    "fig, axes = plt.subplots(figsize=(8, 1), dpi=100)\n",
    "fig.subplots_adjust(bottom=0.3)\n",
    "barlist = plt.bar(x, width=1, height=20)\n",
    "for i in range(len(x)):\n",
    "    barlist[i].set_color(y[i])    \n",
    "axes.get_yaxis().set_visible(False)\n",
    "axes.set_xlim([dateStart,dateEnd])\n",
    "axes.set_ylim([0,8])\n",
    "color = 'gray'\n",
    "axes.tick_params(axis='x', colors=color)\n",
    "axes.spines['bottom'].set_color(color)\n",
    "axes.spines['top'].set_color(color) \n",
    "axes.spines['right'].set_color(color)\n",
    "axes.spines['left'].set_color(color)\n",
    "\n",
    "fig.savefig('stripes2.png', bbox_inches='tight')\n",
    "#plt.close(fig)"
   ]
  },
  {
   "cell_type": "code",
   "execution_count": 23,
   "metadata": {},
   "outputs": [],
   "source": [
    "def read_date(file):\n",
    "    \n",
    "    df = pd.read_csv(file, header=None, delim_whitespace=True, skiprows=30, na_values=['-999999'])\n",
    "    df.rename(columns={\n",
    "        0: \"SOUID\", \n",
    "        1: \"YEAR\",\n",
    "        2: \"ANNUAL\", \n",
    "        3: \"WINTER HALF YEAR\", \n",
    "        4: \"SUMMER HALF YEAR\", \n",
    "        5: \"WINTER (DJF)\",\n",
    "        6: \"SPRING (MAM)\",\n",
    "        7: \"SUMMER (JJA)\",\n",
    "        8: \"AUTUMN (SON)\"\n",
    "        }, inplace=True)\n",
    "    df['Date'] =  pd.to_datetime(df['YEAR'], format='%Y')\n",
    "    df.set_index('Date', inplace=True)\n",
    "    \n",
    "    return df['YEAR'].iloc[0]"
   ]
  },
  {
   "cell_type": "code",
   "execution_count": 27,
   "metadata": {},
   "outputs": [],
   "source": [
    "def read_data(file, verbose=False, displayPNG=True, levels=[-1.6,1.6,0.2]):\n",
    "    \n",
    "    s = pd.read_csv(file, skiprows=8, nrows=1)\n",
    "    countryName = s.iloc[0][0][33:74].strip()\n",
    "    stationName = s.iloc[0][0][74:115].strip()\n",
    "    \n",
    "    df = pd.read_csv(file, header=None, delim_whitespace=True, skiprows=30, na_values=['-999999'])\n",
    "    df.rename(columns={\n",
    "        0: \"SOUID\", \n",
    "        1: \"YEAR\",\n",
    "        2: \"ANNUAL\", \n",
    "        3: \"WINTER HALF YEAR\", \n",
    "        4: \"SUMMER HALF YEAR\", \n",
    "        5: \"WINTER (DJF)\",\n",
    "        6: \"SPRING (MAM)\",\n",
    "        7: \"SUMMER (JJA)\",\n",
    "        8: \"AUTUMN (SON)\"\n",
    "        }, inplace=True)\n",
    "    df['Date'] =  pd.to_datetime(df['YEAR'], format='%Y')\n",
    "    df.set_index('Date', inplace=True)\n",
    "    \n",
    "    nbGood1 = df[(df['YEAR'] >= 1980) & (df['YEAR'] < 2010)]['YEAR'].count()\n",
    "    if (nbGood1 != 30):\n",
    "        return -1     # EXIT_FAILURE\n",
    "             \n",
    "    anomalies = (df['ANNUAL']-df[(df['YEAR'] >= 1980) & (df['YEAR'] < 2010)]['ANNUAL'].mean())/100\n",
    "    \n",
    "    min=levels[0]\n",
    "    max=levels[1]\n",
    "    delta=levels[2]\n",
    "    allLevels = np.arange(min,max+delta,delta)\n",
    "    cmap = plt.get_cmap('RdBu_r')\n",
    "    colors = cmap(np.linspace(0, 1, len(allLevels)+1))\n",
    "    cmap, norm = matplotlib.colors.from_levels_and_colors(allLevels, colors, extend='both')\n",
    "    \n",
    "    dateStart = 1870\n",
    "    dateEnd = 2018\n",
    "    \n",
    "    x = []\n",
    "    y = []\n",
    "    for i in range(dateStart, dateEnd):\n",
    "        x.append(i)\n",
    "        \n",
    "        try: \n",
    "            if (not np.isnan(anomalies.loc[str(i)][0])):\n",
    "                c = cmap(norm(anomalies.loc[str(i)][0]))\n",
    "            else:\n",
    "                c = (0.8,0.8,0.8)               # missing \n",
    "        except:\n",
    "            c = (1,1,1)\n",
    "            \n",
    "        y.append(c)\n",
    "          \n",
    "    plt.ioff()\n",
    "    fig, axes = plt.subplots(figsize=(8, 1))\n",
    "    fig.subplots_adjust(bottom=0.3)\n",
    "    barlist = plt.bar(x, height=10)\n",
    "    for i in range(len(x)):\n",
    "        barlist[i].set_color(y[i])    \n",
    "    axes.get_yaxis().set_visible(False)\n",
    "    axes.set_xlim([dateStart,dateEnd+1])\n",
    "    axes.set_ylim([0,8])\n",
    "    color = 'gray'\n",
    "    axes.tick_params(axis='x', colors=color)\n",
    "    axes.spines['bottom'].set_color(color)\n",
    "    axes.spines['top'].set_color(color) \n",
    "    axes.spines['right'].set_color(color)\n",
    "    axes.spines['left'].set_color(color)\n",
    "    \n",
    "    if verbose:\n",
    "        print(countryName, stationName)\n",
    "        print('Mean: %f' %(df[(df['YEAR'] >= 1980) & (df['YEAR'] < 2010)]['ANNUAL'].mean()/100))\n",
    "        print('Date start: %d\\nDate end: %d\\nSize: %d\\nMissing: %d' \\\n",
    "          %(df['YEAR'].iloc[0], df['YEAR'].iloc[-1], df['YEAR'].size, df['YEAR'].size-df['ANNUAL'].count()))\n",
    "        print('Min: %6.2f\\nMax: %6.2f' %(np.nanmin(anomalies),np.nanmax(anomalies)))\n",
    "        \n",
    "    STATID = file[-10:-4]\n",
    "    #print('stripes/' + STATID + '.png')\n",
    "    fig.savefig(STATID + '.png', bbox_inches='tight')\n",
    "    \n",
    "    if not displayPNG:\n",
    "        plt.close(fig)\n",
    "        \n",
    "    return 0            # EXIT_SUCCESS"
   ]
  },
  {
   "cell_type": "code",
   "execution_count": 28,
   "metadata": {},
   "outputs": [
    {
     "name": "stdout",
     "output_type": "stream",
     "text": [
      "FRANCE BOURGES\n",
      "Mean: 11.710333\n",
      "Date start: 1945\n",
      "Date end: 2018\n",
      "Size: 74\n",
      "Missing: 2\n",
      "Min:  -1.91\n",
      "Max:   1.45\n",
      "FRANCE PARIS - MONTSOURIS\n",
      "Mean: 12.405667\n",
      "Date start: 1873\n",
      "Date end: 2018\n",
      "Size: 146\n",
      "Missing: 0\n",
      "Min:  -3.65\n",
      "Max:   1.63\n",
      "FRANCE TOULOUSE-BLAGNAC\n",
      "Mean: 13.750667\n",
      "Date start: 1947\n",
      "Date end: 2018\n",
      "Size: 72\n",
      "Missing: 1\n",
      "Min:  -2.28\n",
      "Max:   1.34\n"
     ]
    },
    {
     "data": {
      "text/plain": [
       "0"
      ]
     },
     "execution_count": 28,
     "metadata": {},
     "output_type": "execute_result"
    },
    {
     "data": {
      "image/png": "[encoded data removed]",
      "text/plain": [
       "<Figure size 576x72 with 1 Axes>"
      ]
     },
     "metadata": {},
     "output_type": "display_data"
    },
    {
     "data": {
      "image/png": "[encoded data removed]",
      "text/plain": [
       "<Figure size 576x72 with 1 Axes>"
      ]
     },
     "metadata": {},
     "output_type": "display_data"
    },
    {
     "data": {
      "image/png": "[encoded data removed]",
      "text/plain": [
       "<Figure size 576x72 with 1 Axes>"
      ]
     },
     "metadata": {},
     "output_type": "display_data"
    }
   ],
   "source": [
    "read_data('data/indexTG000032.txt', verbose=True)\n",
    "read_data('data/indexTG000038.txt', verbose=True)\n",
    "read_data('data/indexTG000033.txt', verbose=True)"
   ]
  },
  {
   "cell_type": "markdown",
   "metadata": {},
   "source": [
    "### Create a map with the climate stripes"
   ]
  },
  {
   "cell_type": "code",
   "execution_count": 30,
   "metadata": {},
   "outputs": [
    {
     "data": {
      "application/vnd.jupyter.widget-view+json": {
       "model_id": "6b19ab22f02746b1be0449b602352d77",
       "version_major": 2,
       "version_minor": 0
      },
      "text/plain": [
       "Map(basemap={'url': 'https://{s}.tile.openstreetmap.org/{z}/{x}/{y}.png', 'max_zoom': 19, 'attribution': 'Map …"
      ]
     },
     "metadata": {},
     "output_type": "display_data"
    }
   ],
   "source": [
    "from ipywidgets import HTML\n",
    "from ipyleaflet import Map, Marker, Popup, CircleMarker\n",
    "\n",
    "center = (45, 3)\n",
    "\n",
    "m = Map(center=center, zoom=5, close_popup_on_click=False)\n",
    "\n",
    "dfStations['Stripes'] = 0       # will stay to 0 if no error\n",
    "dfStations['startDate'] = 0\n",
    "for index, row in dfStations.iterrows():\n",
    "    \n",
    "#    if index > 40:\n",
    "#        break\n",
    "        \n",
    "    if row['COUNTRYNAME'] == 'FRANCE' :\n",
    "        circle_marker = CircleMarker()\n",
    "        circle_marker.location = (row['LAT'], row['LON'])\n",
    "        circle_marker.radius = 5\n",
    "        circle_marker.color = \"royalblue\"\n",
    "        circle_marker.weight = 1\n",
    "        circle_marker.fill_color = \"royalblue\"\n",
    "        circle_marker.fill_opacity = 0.4\n",
    "        \n",
    "        file = 'data/indexTG0%05d.txt' % row['STAID']\n",
    "        \n",
    "        a = read_data(file, displayPNG=False, levels=[-1.6,1.6,0.2])\n",
    "        dfStations.loc[index, 'startDate'] = read_date(file)\n",
    "        \n",
    "        if (a != -1):\n",
    "            message = HTML()\n",
    "            STATID = file[-10:-4]\n",
    "            message.value = \"%s (%s)\" %(row['STATIONNAME'],file)  + '<br><img style=\"width: 400px;\" src=\"' + STATID + '.png\">'\n",
    "            circle_marker.popup = message\n",
    "            m.add_layer(circle_marker)\n",
    "            \n",
    "        else:\n",
    "            dfStations.loc[index, 'Stripes'] = 1\n",
    "\n",
    "display(m)"
   ]
  },
  {
   "cell_type": "code",
   "execution_count": 29,
   "metadata": {},
   "outputs": [
    {
     "ename": "KeyError",
     "evalue": "'Stripes'",
     "output_type": "error",
     "traceback": [
      "\u001b[0;31m---------------------------------------------------------------------------\u001b[0m",
      "\u001b[0;31mKeyError\u001b[0m                                  Traceback (most recent call last)",
      "\u001b[0;32m/opt/anaconda3/lib/python3.7/site-packages/pandas/core/indexes/base.py\u001b[0m in \u001b[0;36mget_loc\u001b[0;34m(self, key, method, tolerance)\u001b[0m\n\u001b[1;32m   2896\u001b[0m             \u001b[0;32mtry\u001b[0m\u001b[0;34m:\u001b[0m\u001b[0;34m\u001b[0m\u001b[0;34m\u001b[0m\u001b[0m\n\u001b[0;32m-> 2897\u001b[0;31m                 \u001b[0;32mreturn\u001b[0m \u001b[0mself\u001b[0m\u001b[0;34m.\u001b[0m\u001b[0m_engine\u001b[0m\u001b[0;34m.\u001b[0m\u001b[0mget_loc\u001b[0m\u001b[0;34m(\u001b[0m\u001b[0mkey\u001b[0m\u001b[0;34m)\u001b[0m\u001b[0;34m\u001b[0m\u001b[0;34m\u001b[0m\u001b[0m\n\u001b[0m\u001b[1;32m   2898\u001b[0m             \u001b[0;32mexcept\u001b[0m \u001b[0mKeyError\u001b[0m\u001b[0;34m:\u001b[0m\u001b[0;34m\u001b[0m\u001b[0;34m\u001b[0m\u001b[0m\n",
      "\u001b[0;32mpandas/_libs/index.pyx\u001b[0m in \u001b[0;36mpandas._libs.index.IndexEngine.get_loc\u001b[0;34m()\u001b[0m\n",
      "\u001b[0;32mpandas/_libs/index.pyx\u001b[0m in \u001b[0;36mpandas._libs.index.IndexEngine.get_loc\u001b[0;34m()\u001b[0m\n",
      "\u001b[0;32mpandas/_libs/hashtable_class_helper.pxi\u001b[0m in \u001b[0;36mpandas._libs.hashtable.PyObjectHashTable.get_item\u001b[0;34m()\u001b[0m\n",
      "\u001b[0;32mpandas/_libs/hashtable_class_helper.pxi\u001b[0m in \u001b[0;36mpandas._libs.hashtable.PyObjectHashTable.get_item\u001b[0;34m()\u001b[0m\n",
      "\u001b[0;31mKeyError\u001b[0m: 'Stripes'",
      "\nDuring handling of the above exception, another exception occurred:\n",
      "\u001b[0;31mKeyError\u001b[0m                                  Traceback (most recent call last)",
      "\u001b[0;32m<ipython-input-29-1b16cf10df8a>\u001b[0m in \u001b[0;36m<module>\u001b[0;34m\u001b[0m\n\u001b[0;32m----> 1\u001b[0;31m \u001b[0ma\u001b[0m \u001b[0;34m=\u001b[0m \u001b[0mdfStations\u001b[0m\u001b[0;34m[\u001b[0m\u001b[0;34m(\u001b[0m\u001b[0mdfStations\u001b[0m\u001b[0;34m[\u001b[0m\u001b[0;34m'COUNTRYNAME'\u001b[0m\u001b[0;34m]\u001b[0m \u001b[0;34m==\u001b[0m \u001b[0;34m'FRANCE'\u001b[0m\u001b[0;34m)\u001b[0m \u001b[0;34m&\u001b[0m \u001b[0;34m(\u001b[0m\u001b[0mdfStations\u001b[0m\u001b[0;34m[\u001b[0m\u001b[0;34m'Stripes'\u001b[0m\u001b[0;34m]\u001b[0m \u001b[0;34m==\u001b[0m \u001b[0;36m0\u001b[0m\u001b[0;34m)\u001b[0m\u001b[0;34m]\u001b[0m\u001b[0;34m.\u001b[0m\u001b[0mcopy\u001b[0m\u001b[0;34m(\u001b[0m\u001b[0;34m)\u001b[0m\u001b[0;34m\u001b[0m\u001b[0;34m\u001b[0m\u001b[0m\n\u001b[0m\u001b[1;32m      2\u001b[0m \u001b[0ma\u001b[0m\u001b[0;34m.\u001b[0m\u001b[0mdrop\u001b[0m\u001b[0;34m(\u001b[0m\u001b[0mcolumns\u001b[0m\u001b[0;34m=\u001b[0m\u001b[0;34m[\u001b[0m\u001b[0;34m'Stripes'\u001b[0m\u001b[0;34m]\u001b[0m\u001b[0;34m,\u001b[0m \u001b[0minplace\u001b[0m\u001b[0;34m=\u001b[0m\u001b[0;32mTrue\u001b[0m\u001b[0;34m)\u001b[0m\u001b[0;34m\u001b[0m\u001b[0;34m\u001b[0m\u001b[0m\n",
      "\u001b[0;32m/opt/anaconda3/lib/python3.7/site-packages/pandas/core/frame.py\u001b[0m in \u001b[0;36m__getitem__\u001b[0;34m(self, key)\u001b[0m\n\u001b[1;32m   2978\u001b[0m             \u001b[0;32mif\u001b[0m \u001b[0mself\u001b[0m\u001b[0;34m.\u001b[0m\u001b[0mcolumns\u001b[0m\u001b[0;34m.\u001b[0m\u001b[0mnlevels\u001b[0m \u001b[0;34m>\u001b[0m \u001b[0;36m1\u001b[0m\u001b[0;34m:\u001b[0m\u001b[0;34m\u001b[0m\u001b[0;34m\u001b[0m\u001b[0m\n\u001b[1;32m   2979\u001b[0m                 \u001b[0;32mreturn\u001b[0m \u001b[0mself\u001b[0m\u001b[0;34m.\u001b[0m\u001b[0m_getitem_multilevel\u001b[0m\u001b[0;34m(\u001b[0m\u001b[0mkey\u001b[0m\u001b[0;34m)\u001b[0m\u001b[0;34m\u001b[0m\u001b[0;34m\u001b[0m\u001b[0m\n\u001b[0;32m-> 2980\u001b[0;31m             \u001b[0mindexer\u001b[0m \u001b[0;34m=\u001b[0m \u001b[0mself\u001b[0m\u001b[0;34m.\u001b[0m\u001b[0mcolumns\u001b[0m\u001b[0;34m.\u001b[0m\u001b[0mget_loc\u001b[0m\u001b[0;34m(\u001b[0m\u001b[0mkey\u001b[0m\u001b[0;34m)\u001b[0m\u001b[0;34m\u001b[0m\u001b[0;34m\u001b[0m\u001b[0m\n\u001b[0m\u001b[1;32m   2981\u001b[0m             \u001b[0;32mif\u001b[0m \u001b[0mis_integer\u001b[0m\u001b[0;34m(\u001b[0m\u001b[0mindexer\u001b[0m\u001b[0;34m)\u001b[0m\u001b[0;34m:\u001b[0m\u001b[0;34m\u001b[0m\u001b[0;34m\u001b[0m\u001b[0m\n\u001b[1;32m   2982\u001b[0m                 \u001b[0mindexer\u001b[0m \u001b[0;34m=\u001b[0m \u001b[0;34m[\u001b[0m\u001b[0mindexer\u001b[0m\u001b[0;34m]\u001b[0m\u001b[0;34m\u001b[0m\u001b[0;34m\u001b[0m\u001b[0m\n",
      "\u001b[0;32m/opt/anaconda3/lib/python3.7/site-packages/pandas/core/indexes/base.py\u001b[0m in \u001b[0;36mget_loc\u001b[0;34m(self, key, method, tolerance)\u001b[0m\n\u001b[1;32m   2897\u001b[0m                 \u001b[0;32mreturn\u001b[0m \u001b[0mself\u001b[0m\u001b[0;34m.\u001b[0m\u001b[0m_engine\u001b[0m\u001b[0;34m.\u001b[0m\u001b[0mget_loc\u001b[0m\u001b[0;34m(\u001b[0m\u001b[0mkey\u001b[0m\u001b[0;34m)\u001b[0m\u001b[0;34m\u001b[0m\u001b[0;34m\u001b[0m\u001b[0m\n\u001b[1;32m   2898\u001b[0m             \u001b[0;32mexcept\u001b[0m \u001b[0mKeyError\u001b[0m\u001b[0;34m:\u001b[0m\u001b[0;34m\u001b[0m\u001b[0;34m\u001b[0m\u001b[0m\n\u001b[0;32m-> 2899\u001b[0;31m                 \u001b[0;32mreturn\u001b[0m \u001b[0mself\u001b[0m\u001b[0;34m.\u001b[0m\u001b[0m_engine\u001b[0m\u001b[0;34m.\u001b[0m\u001b[0mget_loc\u001b[0m\u001b[0;34m(\u001b[0m\u001b[0mself\u001b[0m\u001b[0;34m.\u001b[0m\u001b[0m_maybe_cast_indexer\u001b[0m\u001b[0;34m(\u001b[0m\u001b[0mkey\u001b[0m\u001b[0;34m)\u001b[0m\u001b[0;34m)\u001b[0m\u001b[0;34m\u001b[0m\u001b[0;34m\u001b[0m\u001b[0m\n\u001b[0m\u001b[1;32m   2900\u001b[0m         \u001b[0mindexer\u001b[0m \u001b[0;34m=\u001b[0m \u001b[0mself\u001b[0m\u001b[0;34m.\u001b[0m\u001b[0mget_indexer\u001b[0m\u001b[0;34m(\u001b[0m\u001b[0;34m[\u001b[0m\u001b[0mkey\u001b[0m\u001b[0;34m]\u001b[0m\u001b[0;34m,\u001b[0m \u001b[0mmethod\u001b[0m\u001b[0;34m=\u001b[0m\u001b[0mmethod\u001b[0m\u001b[0;34m,\u001b[0m \u001b[0mtolerance\u001b[0m\u001b[0;34m=\u001b[0m\u001b[0mtolerance\u001b[0m\u001b[0;34m)\u001b[0m\u001b[0;34m\u001b[0m\u001b[0;34m\u001b[0m\u001b[0m\n\u001b[1;32m   2901\u001b[0m         \u001b[0;32mif\u001b[0m \u001b[0mindexer\u001b[0m\u001b[0;34m.\u001b[0m\u001b[0mndim\u001b[0m \u001b[0;34m>\u001b[0m \u001b[0;36m1\u001b[0m \u001b[0;32mor\u001b[0m \u001b[0mindexer\u001b[0m\u001b[0;34m.\u001b[0m\u001b[0msize\u001b[0m \u001b[0;34m>\u001b[0m \u001b[0;36m1\u001b[0m\u001b[0;34m:\u001b[0m\u001b[0;34m\u001b[0m\u001b[0;34m\u001b[0m\u001b[0m\n",
      "\u001b[0;32mpandas/_libs/index.pyx\u001b[0m in \u001b[0;36mpandas._libs.index.IndexEngine.get_loc\u001b[0;34m()\u001b[0m\n",
      "\u001b[0;32mpandas/_libs/index.pyx\u001b[0m in \u001b[0;36mpandas._libs.index.IndexEngine.get_loc\u001b[0;34m()\u001b[0m\n",
      "\u001b[0;32mpandas/_libs/hashtable_class_helper.pxi\u001b[0m in \u001b[0;36mpandas._libs.hashtable.PyObjectHashTable.get_item\u001b[0;34m()\u001b[0m\n",
      "\u001b[0;32mpandas/_libs/hashtable_class_helper.pxi\u001b[0m in \u001b[0;36mpandas._libs.hashtable.PyObjectHashTable.get_item\u001b[0;34m()\u001b[0m\n",
      "\u001b[0;31mKeyError\u001b[0m: 'Stripes'"
     ]
    }
   ],
   "source": [
    "a = dfStations[(dfStations['COUNTRYNAME'] == 'FRANCE') & (dfStations['Stripes'] == 0)].copy()\n",
    "a.drop(columns=['Stripes'], inplace=True)"
   ]
  },
  {
   "cell_type": "code",
   "execution_count": 48,
   "metadata": {},
   "outputs": [],
   "source": [
    "a.to_json(\"data.json\", orient='values')"
   ]
  },
  {
   "cell_type": "code",
   "execution_count": 49,
   "metadata": {},
   "outputs": [
    {
     "data": {
      "text/plain": [
       "123"
      ]
     },
     "execution_count": 49,
     "metadata": {},
     "output_type": "execute_result"
    }
   ],
   "source": [
    "len(a)"
   ]
  },
  {
   "cell_type": "code",
   "execution_count": 50,
   "metadata": {},
   "outputs": [],
   "source": [
    "! mv *.png stripes"
   ]
  },
  {
   "cell_type": "code",
   "execution_count": 51,
   "metadata": {},
   "outputs": [
    {
     "data": {
      "image/png": "[encoded data removed]",
      "text/plain": [
       "<Figure size 576x72 with 1 Axes>"
      ]
     },
     "metadata": {
      "needs_background": "light"
     },
     "output_type": "display_data"
    }
   ],
   "source": [
    "import matplotlib.pyplot as plt\n",
    "import matplotlib as mpl\n",
    "import numpy as np\n",
    "\n",
    "fig, ax = plt.subplots(figsize=(8, 1))\n",
    "fig.subplots_adjust(bottom=0.6)\n",
    "\n",
    "min=-1.6\n",
    "max=1.6\n",
    "delta=0.2\n",
    "allLevels = np.arange(min,max+delta,delta)\n",
    "cmap = plt.get_cmap('RdBu_r')\n",
    "colors = cmap(np.linspace(0, 1, len(allLevels)+1))\n",
    "cmap, norm = matplotlib.colors.from_levels_and_colors(allLevels, colors, extend='both')\n",
    "\n",
    "cb1 = mpl.colorbar.ColorbarBase(ax, \n",
    "                                cmap=cmap,\n",
    "                                norm=norm,\n",
    "                                orientation='horizontal',\n",
    "                                extend='both')\n",
    "cb1.set_label('Difference from 1980-2009 (°C)')\n",
    "\n",
    "fig\n",
    "\n",
    "fig.savefig('legend.png')"
   ]
  },
  {
   "cell_type": "code",
   "execution_count": null,
   "metadata": {},
   "outputs": [],
   "source": []
  },
  {
   "cell_type": "code",
   "execution_count": null,
   "metadata": {},
   "outputs": [],
   "source": []
  }
 ],
 "metadata": {
  "kernelspec": {
   "display_name": "Python 3",
   "language": "python",
   "name": "python3"
  },
  "language_info": {
   "codemirror_mode": {
    "name": "ipython",
    "version": 3
   },
   "file_extension": ".py",
   "mimetype": "text/x-python",
   "name": "python",
   "nbconvert_exporter": "python",
   "pygments_lexer": "ipython3",
   "version": "3.7.3"
  }
 },
 "nbformat": 4,
 "nbformat_minor": 2
}
